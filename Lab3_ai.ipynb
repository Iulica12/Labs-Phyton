{
  "nbformat": 4,
  "nbformat_minor": 0,
  "metadata": {
    "colab": {
      "provenance": [],
      "collapsed_sections": [],
      "authorship_tag": "ABX9TyPkENHWMhqLVudqTsrUJbPn",
      "include_colab_link": true
    },
    "kernelspec": {
      "name": "python3",
      "display_name": "Python 3"
    },
    "language_info": {
      "name": "python"
    }
  },
  "cells": [
    {
      "cell_type": "markdown",
      "metadata": {
        "id": "view-in-github",
        "colab_type": "text"
      },
      "source": [
        "<a href=\"https://colab.research.google.com/github/Iulica12/Labs-Phyton/blob/main/Lab3_ai.ipynb\" target=\"_parent\"><img src=\"https://colab.research.google.com/assets/colab-badge.svg\" alt=\"Open In Colab\"/></a>"
      ]
    },
    {
      "cell_type": "markdown",
      "source": [
        "\n",
        "Scrieți o buclă while care începe cu ultimul caracter dintr-un string și îl parcurge în sens invers, afișând\n",
        "câte o literă pe câte o linie.\n",
        "> Bloc indentat\n",
        "\n"
      ],
      "metadata": {
        "id": "HkK_w5qoMaES"
      }
    },
    {
      "cell_type": "code",
      "execution_count": null,
      "metadata": {
        "colab": {
          "base_uri": "https://localhost:8080/"
        },
        "id": "8khaQkPfLQv2",
        "outputId": "c2b7e03b-5f9b-4ae0-9d87-7200e797aa93"
      },
      "outputs": [
        {
          "output_type": "stream",
          "name": "stdout",
          "text": [
            "Introduceti cuvantul banana\n",
            "a\n",
            "n\n",
            "a\n",
            "n\n",
            "a\n",
            "b\n"
          ]
        }
      ],
      "source": [
        "cuvant = input(\"Introduceti cuvantul \")\n",
        "n = len(cuvant) \n",
        "while n>0:\n",
        "  print(cuvant[n-1])\n",
        "  n= n-1;\n"
      ]
    },
    {
      "cell_type": "markdown",
      "source": [
        "Încapsulați secvența de cod de mai sus într-o funcție numităcount și generalizați-o astfel încât să accepte șirul de caractere și litera de numărat ca și argumente.\n"
      ],
      "metadata": {
        "id": "xgpz4Z0nOpbq"
      }
    },
    {
      "cell_type": "code",
      "source": [
        "def count_letters(word, letter):\n",
        "  count = 0;\n",
        "  for letter in word:\n",
        "    if letter == 'a':\n",
        "      count=count+1\n",
        "  print(count)\n",
        "\n",
        "sir = input(\"Introduceti sirul \")\n",
        "litera = input(\"Introduceti litera \")\n",
        "count_letters(sir,litera)\n"
      ],
      "metadata": {
        "colab": {
          "base_uri": "https://localhost:8080/"
        },
        "id": "r710GE6nOtfC",
        "outputId": "4f70df4b-debc-4155-cd43-6557e061e4b3"
      },
      "execution_count": null,
      "outputs": [
        {
          "output_type": "stream",
          "name": "stdout",
          "text": [
            "Introduceti sirul maimuta\n",
            "Introduceti litera a\n",
            "2\n"
          ]
        }
      ]
    },
    {
      "cell_type": "markdown",
      "source": [],
      "metadata": {
        "id": "TUT3B4xtQGvk"
      }
    },
    {
      "cell_type": "markdown",
      "source": [
        "Plecând de la următoarea instrucțiune folosiți metoda find și operațiunile de slice pentru a\n",
        "extrage partea de text de după “:” și folosiți apoi funcția float pentru a converti valoarea extrasă într-un număr real pe care să îl afișați.\n",
        "text = 'X-DSPAM-Confidence:0.8475'"
      ],
      "metadata": {
        "id": "bxhWn5ZgQ-7J"
      }
    },
    {
      "cell_type": "code",
      "source": [
        "text = 'X-DSPAM-Confidence:0.8475'\n",
        "subsir = text[text.find(':')+1 : len(text)]\n",
        "print(type(subsir))\n",
        "print(subsir)\n",
        "print(float(subsir))"
      ],
      "metadata": {
        "colab": {
          "base_uri": "https://localhost:8080/"
        },
        "id": "C7VqcTSSRAZa",
        "outputId": "057d3f1d-cdef-480e-f30a-aaf95458c15d"
      },
      "execution_count": null,
      "outputs": [
        {
          "output_type": "stream",
          "name": "stdout",
          "text": [
            "<class 'str'>\n",
            "0.8475\n",
            "0.8475\n"
          ]
        }
      ]
    },
    {
      "cell_type": "markdown",
      "source": [
        "Lucru cu fisiere"
      ],
      "metadata": {
        "id": "7dDLsDKDSxz_"
      }
    },
    {
      "cell_type": "code",
      "source": [
        "f= open('mbox.txt')\n",
        "print(f)"
      ],
      "metadata": {
        "id": "VgYkbVCFTwf2",
        "colab": {
          "base_uri": "https://localhost:8080/"
        },
        "outputId": "29cf5245-d101-4e30-c532-05c2bfbf2952"
      },
      "execution_count": 14,
      "outputs": [
        {
          "output_type": "stream",
          "name": "stdout",
          "text": [
            "<_io.TextIOWrapper name='mbox.txt' mode='r' encoding='UTF-8'>\n"
          ]
        }
      ]
    },
    {
      "cell_type": "markdown",
      "source": [
        "Afisare nr de linii din fisier"
      ],
      "metadata": {
        "id": "sy4G5-IYUsTZ"
      }
    },
    {
      "cell_type": "code",
      "source": [
        "f = open('mbox.txt') \n",
        "count = 0\n",
        "for line in f:\n",
        "  count = count + 1 \n",
        "print('Nr linii:', count)"
      ],
      "metadata": {
        "colab": {
          "base_uri": "https://localhost:8080/"
        },
        "id": "oKd0d-DcUO8d",
        "outputId": "b0054fc7-a3ff-4c6d-941b-436ae36b5604"
      },
      "execution_count": 15,
      "outputs": [
        {
          "output_type": "stream",
          "name": "stdout",
          "text": [
            "Nr linii: 132044\n"
          ]
        }
      ]
    },
    {
      "cell_type": "markdown",
      "source": [],
      "metadata": {
        "id": "rBNqw3zmUoZC"
      }
    },
    {
      "cell_type": "code",
      "source": [
        "f2 = open('mbox-short.txt')\n",
        "inp = f2.read()\n",
        "print(len(inp)) \n",
        "print(inp[:20])"
      ],
      "metadata": {
        "colab": {
          "base_uri": "https://localhost:8080/"
        },
        "id": "L0FNcJSyVWzK",
        "outputId": "f679d59b-9161-478d-e404-4ea69556c228"
      },
      "execution_count": 17,
      "outputs": [
        {
          "output_type": "stream",
          "name": "stdout",
          "text": [
            "94625\n",
            "From stephen.marquar\n"
          ]
        }
      ]
    },
    {
      "cell_type": "code",
      "source": [
        "f = open('mbox-short.txt') \n",
        "count = 0\n",
        "for line in f:\n",
        "  if line.startswith('From:'): \n",
        "   print(line)"
      ],
      "metadata": {
        "colab": {
          "base_uri": "https://localhost:8080/"
        },
        "id": "eyF-lPY6VipH",
        "outputId": "161b41bd-f8ac-4c7b-acf8-2cee291bdd0c"
      },
      "execution_count": 18,
      "outputs": [
        {
          "output_type": "stream",
          "name": "stdout",
          "text": [
            "From: stephen.marquard@uct.ac.za\n",
            "\n",
            "From: louis@media.berkeley.edu\n",
            "\n",
            "From: zqian@umich.edu\n",
            "\n",
            "From: rjlowe@iupui.edu\n",
            "\n",
            "From: zqian@umich.edu\n",
            "\n",
            "From: rjlowe@iupui.edu\n",
            "\n",
            "From: cwen@iupui.edu\n",
            "\n",
            "From: cwen@iupui.edu\n",
            "\n",
            "From: gsilver@umich.edu\n",
            "\n",
            "From: gsilver@umich.edu\n",
            "\n",
            "From: zqian@umich.edu\n",
            "\n",
            "From: gsilver@umich.edu\n",
            "\n",
            "From: wagnermr@iupui.edu\n",
            "\n",
            "From: zqian@umich.edu\n",
            "\n",
            "From: antranig@caret.cam.ac.uk\n",
            "\n",
            "From: gopal.ramasammycook@gmail.com\n",
            "\n",
            "From: david.horwitz@uct.ac.za\n",
            "\n",
            "From: david.horwitz@uct.ac.za\n",
            "\n",
            "From: david.horwitz@uct.ac.za\n",
            "\n",
            "From: david.horwitz@uct.ac.za\n",
            "\n",
            "From: stephen.marquard@uct.ac.za\n",
            "\n",
            "From: louis@media.berkeley.edu\n",
            "\n",
            "From: louis@media.berkeley.edu\n",
            "\n",
            "From: ray@media.berkeley.edu\n",
            "\n",
            "From: cwen@iupui.edu\n",
            "\n",
            "From: cwen@iupui.edu\n",
            "\n",
            "From: cwen@iupui.edu\n",
            "\n"
          ]
        }
      ]
    },
    {
      "cell_type": "code",
      "source": [],
      "metadata": {
        "id": "-2AcnTIeVqM_"
      },
      "execution_count": null,
      "outputs": []
    },
    {
      "cell_type": "code",
      "source": [
        "f = open('mbox-short.txt') \n",
        "count = 0\n",
        "for line in f:\n",
        "  line = line.rstrip()\n",
        "  if line.startswith('From:'): \n",
        "      print(line)"
      ],
      "metadata": {
        "colab": {
          "base_uri": "https://localhost:8080/"
        },
        "id": "9NflnZIQVx2h",
        "outputId": "e5a9eb2d-7c94-4489-ed98-9dc5dc218e91"
      },
      "execution_count": 20,
      "outputs": [
        {
          "output_type": "stream",
          "name": "stdout",
          "text": [
            "From: stephen.marquard@uct.ac.za\n",
            "From: louis@media.berkeley.edu\n",
            "From: zqian@umich.edu\n",
            "From: rjlowe@iupui.edu\n",
            "From: zqian@umich.edu\n",
            "From: rjlowe@iupui.edu\n",
            "From: cwen@iupui.edu\n",
            "From: cwen@iupui.edu\n",
            "From: gsilver@umich.edu\n",
            "From: gsilver@umich.edu\n",
            "From: zqian@umich.edu\n",
            "From: gsilver@umich.edu\n",
            "From: wagnermr@iupui.edu\n",
            "From: zqian@umich.edu\n",
            "From: antranig@caret.cam.ac.uk\n",
            "From: gopal.ramasammycook@gmail.com\n",
            "From: david.horwitz@uct.ac.za\n",
            "From: david.horwitz@uct.ac.za\n",
            "From: david.horwitz@uct.ac.za\n",
            "From: david.horwitz@uct.ac.za\n",
            "From: stephen.marquard@uct.ac.za\n",
            "From: louis@media.berkeley.edu\n",
            "From: louis@media.berkeley.edu\n",
            "From: ray@media.berkeley.edu\n",
            "From: cwen@iupui.edu\n",
            "From: cwen@iupui.edu\n",
            "From: cwen@iupui.edu\n"
          ]
        }
      ]
    },
    {
      "cell_type": "code",
      "source": [
        "fname = input('Nume fisier: ')\n",
        "try:\n",
        "  f = open(fname)\n",
        "except:\n",
        "  print('Fisierul nu a fost gasit:', fname) \n",
        "  exit()\n",
        "count = 0\n",
        "for line in f:\n",
        "  if line.startswith('Subject:'):\n",
        "    count = count + 1\n",
        "print('Au fost gasite %d linii de Subiect in %s'% (count,fname))"
      ],
      "metadata": {
        "colab": {
          "base_uri": "https://localhost:8080/"
        },
        "id": "k-dsC8tkWBkv",
        "outputId": "7edbace2-2adb-4afe-a974-b4e57238fdbb"
      },
      "execution_count": 1,
      "outputs": [
        {
          "output_type": "stream",
          "name": "stdout",
          "text": [
            "Nume fisier: mbox.txt\n",
            "Au fost gasite 1797 linii de Subiect in mbox.txt\n"
          ]
        }
      ]
    },
    {
      "cell_type": "markdown",
      "source": [
        "Scriere in fisiere"
      ],
      "metadata": {
        "id": "7IoDDzDGXz1X"
      }
    },
    {
      "cell_type": "code",
      "source": [
        "fout = open('output.txt', 'w')\n",
        "line1 = \"Nu credeam sa-nvat a muri vreodata\\n\" \n",
        "fout.write(line1)\n",
        "line2 = 'Pururi tanar, infasurat in manta-mi\\n' \n",
        "fout.write(line2)\n",
        "fout.close()"
      ],
      "metadata": {
        "id": "scGfUar-X2dz"
      },
      "execution_count": 4,
      "outputs": []
    },
    {
      "cell_type": "markdown",
      "source": [
        "Scrieti un program care citeste dintr-un fisier si afiseaza continutul linie cu linie folosind majuscule. Executia va arata astfel"
      ],
      "metadata": {
        "id": "NkxsKJL9Yj1r"
      }
    },
    {
      "cell_type": "code",
      "source": [
        "fname = input('Nume fisier: ')\n",
        "try:\n",
        "  f = open(fname)\n",
        "  for line in f:\n",
        "    line = line.rstrip()\n",
        "    print(line.upper())\n",
        "except:\n",
        "  print('Fisierul nu a fost gasit:', fname) \n",
        "  exit()"
      ],
      "metadata": {
        "colab": {
          "base_uri": "https://localhost:8080/"
        },
        "id": "qmQkF9JyYxRg",
        "outputId": "72bd627c-2e6a-4a96-a1df-1c159d933156"
      },
      "execution_count": 7,
      "outputs": [
        {
          "output_type": "stream",
          "name": "stdout",
          "text": [
            "Nume fisier: ex1.txt\n",
            "FBDJFBDBFJDBCJDBCJDBCJDB\n",
            "DBDJBFJDBF\n",
            "JDBJVBDJV\n",
            "JCDBCJDBJD\n",
            "IFDNCKDK\n",
            "DISIDSID\n"
          ]
        }
      ]
    },
    {
      "cell_type": "markdown",
      "source": [
        "Scrieti un program care citeste dintr-un fisier si cauta linii de forma: X-DSPAM-Confidence: 0.8475\n",
        "Cand intalniti o linie ce incepe cu “X-DSPAM-Confidence:” prelucrati acea linie si extrageti valoarea reală. Numărați aceste linii și calculați suma valorilor pentru spam confidence. Când ați ajuns la finalul fișierului afișați media spam confidence."
      ],
      "metadata": {
        "id": "20zHUzPFZ9vh"
      }
    },
    {
      "cell_type": "code",
      "source": [
        "fname = input('Nume fisier: ')\n",
        "try:\n",
        "  f = open(fname)\n",
        "  suma = 0.0\n",
        "  count = 0 \n",
        "  for line in f:\n",
        "    if line.startswith('X-DSPAM-Confidence:'):\n",
        "      suma = suma + float(line[len('X-DSPAM-Confidence:'):])\n",
        "      count = count + 1\n",
        "  print(float(suma/count))\n",
        "except:\n",
        "  print('Fisierul nu a fost gasit:', fname) \n",
        "  exit()"
      ],
      "metadata": {
        "colab": {
          "base_uri": "https://localhost:8080/"
        },
        "id": "a8N_8TVQaOmO",
        "outputId": "81d6e896-1c8e-4b0c-bada-17d493dcb284"
      },
      "execution_count": 9,
      "outputs": [
        {
          "output_type": "stream",
          "name": "stdout",
          "text": [
            "Nume fisier: mbox-short.txt\n",
            "0.7507185185185187\n"
          ]
        }
      ]
    }
  ]
}