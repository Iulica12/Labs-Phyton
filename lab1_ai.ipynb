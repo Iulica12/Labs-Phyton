{
  "nbformat": 4,
  "nbformat_minor": 0,
  "metadata": {
    "colab": {
      "provenance": [],
      "collapsed_sections": [],
      "authorship_tag": "ABX9TyNmkGJNie/uTYjY43lhDRxy",
      "include_colab_link": true
    },
    "kernelspec": {
      "name": "python3",
      "display_name": "Python 3"
    },
    "language_info": {
      "name": "python"
    }
  },
  "cells": [
    {
      "cell_type": "markdown",
      "metadata": {
        "id": "view-in-github",
        "colab_type": "text"
      },
      "source": [
        "<a href=\"https://colab.research.google.com/github/Iulica12/Labs-Phyton/blob/main/lab1_ai.ipynb\" target=\"_parent\"><img src=\"https://colab.research.google.com/assets/colab-badge.svg\" alt=\"Open In Colab\"/></a>"
      ]
    },
    {
      "cell_type": "code",
      "source": [
        "from google.colab import drive\n",
        "drive.mount('/content/gdrive/')"
      ],
      "metadata": {
        "id": "X27M20D2Gn6u"
      },
      "execution_count": null,
      "outputs": []
    },
    {
      "cell_type": "markdown",
      "source": [
        "**SECTIUNEA_2**"
      ],
      "metadata": {
        "id": "-8h9di02Gpvs"
      }
    },
    {
      "cell_type": "code",
      "source": [
        "n = 17\n",
        "pi = 3.1415926535897931\n",
        "print(n)\n",
        "print(pi)"
      ],
      "metadata": {
        "colab": {
          "base_uri": "https://localhost:8080/"
        },
        "id": "xX1Bs-N6H2Mj",
        "outputId": "eceb06dd-fa30-43d5-963e-de3f2ce1d923"
      },
      "execution_count": null,
      "outputs": [
        {
          "output_type": "stream",
          "name": "stdout",
          "text": [
            "17\n",
            "3.141592653589793\n"
          ]
        }
      ]
    },
    {
      "cell_type": "code",
      "source": [
        "print(type(\"jsgdsjg\"))\n",
        "print(type(12))"
      ],
      "metadata": {
        "colab": {
          "base_uri": "https://localhost:8080/"
        },
        "id": "M5jutbHvIdw6",
        "outputId": "882a1d1c-9e1c-4d7f-fd40-e41a67f61f59"
      },
      "execution_count": null,
      "outputs": [
        {
          "output_type": "stream",
          "name": "stdout",
          "text": [
            "<class 'str'>\n",
            "<class 'int'>\n"
          ]
        }
      ]
    },
    {
      "cell_type": "code",
      "source": [
        "nume = input(\"Cum va numiti? \\n\")\n",
        "print(nume)    #afiseaza numele dat anterior"
      ],
      "metadata": {
        "colab": {
          "base_uri": "https://localhost:8080/"
        },
        "id": "3cMY04ZgJaK2",
        "outputId": "f7c6cdb7-3286-4c9f-af31-6edede52d1ef"
      },
      "execution_count": null,
      "outputs": [
        {
          "output_type": "stream",
          "name": "stdout",
          "text": [
            "Cum va numiti? \n",
            "iulian\n",
            "iulian\n"
          ]
        }
      ]
    },
    {
      "cell_type": "code",
      "source": [
        "primul='100'\n",
        "second='150'\n",
        "print(primul+second)"
      ],
      "metadata": {
        "colab": {
          "base_uri": "https://localhost:8080/"
        },
        "id": "Yn0kNCEBJ7q-",
        "outputId": "6c913fe8-a4e3-4f38-8998-60e173f86474"
      },
      "execution_count": null,
      "outputs": [
        {
          "output_type": "stream",
          "name": "stdout",
          "text": [
            "100150\n"
          ]
        }
      ]
    },
    {
      "cell_type": "code",
      "source": [
        "primul='Iulian'\n",
        "second=3\n",
        "print(primul*second)"
      ],
      "metadata": {
        "colab": {
          "base_uri": "https://localhost:8080/"
        },
        "id": "--VMAklDLjbd",
        "outputId": "7ed81453-baef-4ab3-82fb-9c5233327db8"
      },
      "execution_count": null,
      "outputs": [
        {
          "output_type": "stream",
          "name": "stdout",
          "text": [
            "IulianIulianIulian\n"
          ]
        }
      ]
    },
    {
      "cell_type": "markdown",
      "source": [
        "Scrieti un program care solicită utilizatorului introducerea de la tastatură a numărului de ore\n",
        "de lucru şi rata orară, calculând apoi salariul brut.\n"
      ],
      "metadata": {
        "id": "h__CPFWOKQAa"
      }
    },
    {
      "cell_type": "code",
      "source": [
        "ore = int(input('Introduceti numarul de ore\\n'))\n",
        "rata_orara = int(input('Introduceti rata orara\\n'))\n",
        "print(ore*rata_orara)"
      ],
      "metadata": {
        "colab": {
          "base_uri": "https://localhost:8080/"
        },
        "id": "eL_9yvPIKTOC",
        "outputId": "04b14375-af4d-4766-8304-aa8f059f5439"
      },
      "execution_count": null,
      "outputs": [
        {
          "output_type": "stream",
          "name": "stdout",
          "text": [
            "Introduceti numarul de ore\n",
            "5\n",
            "Introduceti rata orara\n",
            "6\n",
            "30\n"
          ]
        }
      ]
    },
    {
      "cell_type": "markdown",
      "source": [
        "Scrieti un program care solicita introducerea temperaturii în grade Celsius, o converteste în\n",
        "Fahrenheit si afiseaza valoarea transformata."
      ],
      "metadata": {
        "id": "WjY8N0ZXMNAN"
      }
    },
    {
      "cell_type": "code",
      "source": [
        "temp_celsius = int(input('Introduceti temperatura in garde celsius\\n'))\n",
        "temp_farenheit = int(temp_celsius) * 1.8 + 32\n",
        "print('Temp in farenheit = ' + str(temp_farenheit))"
      ],
      "metadata": {
        "colab": {
          "base_uri": "https://localhost:8080/"
        },
        "id": "ceH0os8HMQNA",
        "outputId": "c5b0dbea-a2a9-4039-f477-561edb18f0e5"
      },
      "execution_count": null,
      "outputs": [
        {
          "output_type": "stream",
          "name": "stdout",
          "text": [
            "Introduceti temperatura in garde celsius\n",
            "20\n",
            "Temp in farenheit = 68.0\n"
          ]
        }
      ]
    },
    {
      "cell_type": "markdown",
      "source": [
        "Având urmatoarele atribuiri,\n",
        "latime=17\n",
        "inaltime=12.0\n",
        "scrieti valoarea expresiei si tipul rezultat:\n",
        "a. latime//2\n",
        "b. latime/2.0\n",
        "c. inaltime/3\n",
        "d. 1+2*5\n",
        " Folositi interpretatorul Python pentru a verifica răspunsurile."
      ],
      "metadata": {
        "id": "TCAHbYiZQQJ5"
      }
    },
    {
      "cell_type": "code",
      "source": [
        "latime = 17\n",
        "inaltime = 12.0\n",
        "#-----pct a-------\n",
        "print(latime//2)\n",
        "print(type(latime//2))\n",
        "#-----pct b-------\n",
        "print(latime/2.0)\n",
        "print(type(latime/2.0))\n",
        "#-----pct c-------\n",
        "print(inaltime/3)\n",
        "print(type(inaltime/3))\n",
        "#-----pct d-------\n",
        "print(1+2*5)\n",
        "print(type(1+2*5))\n"
      ],
      "metadata": {
        "colab": {
          "base_uri": "https://localhost:8080/"
        },
        "id": "3eFKQuvBQWDh",
        "outputId": "200b3d85-c2a6-4c04-991b-2aa166974a34"
      },
      "execution_count": null,
      "outputs": [
        {
          "output_type": "stream",
          "name": "stdout",
          "text": [
            "8\n",
            "<class 'int'>\n",
            "8.5\n",
            "<class 'float'>\n",
            "4.0\n",
            "<class 'float'>\n",
            "11\n",
            "<class 'int'>\n"
          ]
        }
      ]
    }
  ]
}