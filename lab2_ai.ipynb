{
  "nbformat": 4,
  "nbformat_minor": 0,
  "metadata": {
    "colab": {
      "provenance": [],
      "collapsed_sections": [],
      "toc_visible": true,
      "authorship_tag": "ABX9TyOZKk7C9J0klr4euGKvfu3n",
      "include_colab_link": true
    },
    "kernelspec": {
      "name": "python3",
      "display_name": "Python 3"
    },
    "language_info": {
      "name": "python"
    }
  },
  "cells": [
    {
      "cell_type": "markdown",
      "metadata": {
        "id": "view-in-github",
        "colab_type": "text"
      },
      "source": [
        "<a href=\"https://colab.research.google.com/github/Iulica12/Labs-Phyton/blob/main/lab2_ai.ipynb\" target=\"_parent\"><img src=\"https://colab.research.google.com/assets/colab-badge.svg\" alt=\"Open In Colab\"/></a>"
      ]
    },
    {
      "cell_type": "markdown",
      "source": [
        "Instructiune if"
      ],
      "metadata": {
        "id": "_pbfEXM7K7Il"
      }
    },
    {
      "cell_type": "code",
      "execution_count": null,
      "metadata": {
        "colab": {
          "base_uri": "https://localhost:8080/"
        },
        "id": "KXpq0PinKexi",
        "outputId": "f54ca684-de91-4db2-ba10-466f52274cf9"
      },
      "outputs": [
        {
          "output_type": "stream",
          "name": "stdout",
          "text": [
            "Introduceti x =7\n",
            "x este impar\n"
          ]
        }
      ],
      "source": [
        "x=input(\"Introduceti x =\")\n",
        "if int(x)%2==0:\n",
        "  print ('x este par')\n",
        "else:\n",
        "  print ('x este impar')"
      ]
    },
    {
      "cell_type": "markdown",
      "source": [
        "conditionare inlantuita"
      ],
      "metadata": {
        "id": "bCuDVYcIMGC7"
      }
    },
    {
      "cell_type": "code",
      "source": [
        "x = input(\"x = \")\n",
        "y = input(\"y = \")\n",
        "if x < y:\n",
        "  print('x mai mic decat y')\n",
        "elif x > y:\n",
        "  print('x mai mare decat y')\n",
        "else:\n",
        "  print('x si y sunt egale')"
      ],
      "metadata": {
        "colab": {
          "base_uri": "https://localhost:8080/"
        },
        "id": "GkdZidrKMGzr",
        "outputId": "d4a0e961-3527-4835-f9d2-a316eaa1031f"
      },
      "execution_count": null,
      "outputs": [
        {
          "output_type": "stream",
          "name": "stdout",
          "text": [
            "x = 8\n",
            "y = 9\n",
            "x mai mic decat y\n"
          ]
        }
      ]
    },
    {
      "cell_type": "markdown",
      "source": [
        "\n",
        "utilizarea exceptiilor\n",
        "\n"
      ],
      "metadata": {
        "id": "Rm9G8YFLMnAv"
      }
    },
    {
      "cell_type": "code",
      "source": [
        "inp = input('Introduceti temperatura in grade Fahrenheit: ')\n",
        "try:\n",
        "  fahr = float(inp)\n",
        "  cel = (fahr - 32.0) * 5.0 / 9.0\n",
        "  print(cel)\n",
        "except:\n",
        "  print('Introduceti o valoare numerica!')"
      ],
      "metadata": {
        "colab": {
          "base_uri": "https://localhost:8080/"
        },
        "id": "3k2PFFHCMoOQ",
        "outputId": "3f72a655-2c87-4d10-9b19-a4bac7323863"
      },
      "execution_count": null,
      "outputs": [
        {
          "output_type": "stream",
          "name": "stdout",
          "text": [
            "Introduceti temperatura in grade Fahrenheit: 52\n",
            "11.11111111111111\n"
          ]
        }
      ]
    },
    {
      "cell_type": "markdown",
      "source": [
        "Rescrieţi programul de calcul al salariului, acordând angajatului o rată orară de 1.5 ori mai mare pentru mai multe de 40 ore lucrate săptămânal."
      ],
      "metadata": {
        "id": "SXWn0csTNK8N"
      }
    },
    {
      "cell_type": "code",
      "source": [
        "ore = int(input('Introduceti numarul de ore\\n'))\n",
        "rata_orara = int(input('Introduceti rata orara\\n'))\n",
        "if(ore>40):\n",
        "  print(ore*1.5*rata_orara)\n",
        "else:\n",
        "  print(ore*rata_orara)"
      ],
      "metadata": {
        "colab": {
          "base_uri": "https://localhost:8080/"
        },
        "id": "TuGjN4khNNmv",
        "outputId": "8177891b-6436-4131-cae3-172b4c15187a"
      },
      "execution_count": null,
      "outputs": [
        {
          "output_type": "stream",
          "name": "stdout",
          "text": [
            "Introduceti numarul de ore\n",
            "45\n",
            "Introduceti rata orara\n",
            "10\n",
            "675.0\n"
          ]
        }
      ]
    },
    {
      "cell_type": "markdown",
      "source": [
        "Scrieţi un program care citeste de la utilizator numere pana cand acesta introduce “gata”. Dupa introducerea acestui cuvant vor fi afisate suma numerelor, numarul de valori introduse si media lor. Daca utilizatorul introduce altceva decat un numar, acest lucru va fi detectat prin utilizarea try/except si se va afisa un mesaj de eroare, iar programul va solicita introducerea unui nou numar, fara a opri executia."
      ],
      "metadata": {
        "id": "X_PDHIawQGHs"
      }
    },
    {
      "cell_type": "code",
      "source": [
        "def functie1():\n",
        "  x = input(\"Introduceti numarul : \")\n",
        "  ct = 1\n",
        "  suma = 0 \n",
        "  while(str(x)!=\"gata\"):\n",
        "    suma= suma+int(x)\n",
        "    ct= ct+1\n",
        "    x = input(\"Introduceti numarul : \")\n",
        "  print('Suma numerelor este '+ str(suma))\n",
        "  print('Au fost introduse ' + str(ct-1) + ' numere')\n",
        "  print('Media este ' + str(float(suma/ct)))\n",
        "\n",
        "try:\n",
        "  functie1();\n",
        "except: \n",
        "  print('Introdu un numar sau gata')\n",
        "  functie1()"
      ],
      "metadata": {
        "colab": {
          "base_uri": "https://localhost:8080/"
        },
        "id": "HmDMPTO_QKo2",
        "outputId": "93e35783-1a20-4c68-d64c-7e9958c2c57f"
      },
      "execution_count": null,
      "outputs": [
        {
          "output_type": "stream",
          "name": "stdout",
          "text": [
            "Introduceti numarul : jgj\n",
            "Introdu un numar sau gata\n",
            "Introduceti numarul : 8\n",
            "Introduceti numarul : 5\n",
            "Introduceti numarul : gata\n",
            "Suma numerelor este 13\n",
            "Au fost introduse 2 numere\n",
            "Media este 4.333333333333333\n"
          ]
        }
      ]
    },
    {
      "cell_type": "code",
      "source": [
        "arr = [1,2,3]\n",
        "len(arr)"
      ],
      "metadata": {
        "colab": {
          "base_uri": "https://localhost:8080/"
        },
        "id": "lBvgDIcFZSle",
        "outputId": "5c9e6dd8-8353-4380-92ef-ce1e4a63a2fc"
      },
      "execution_count": null,
      "outputs": [
        {
          "output_type": "execute_result",
          "data": {
            "text/plain": [
              "3"
            ]
          },
          "metadata": {},
          "execution_count": 32
        }
      ]
    }
  ]
}